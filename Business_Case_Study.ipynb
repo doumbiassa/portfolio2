{
 "cells": [
  {
   "cell_type": "code",
   "execution_count": 1,
   "metadata": {},
   "outputs": [],
   "source": [
    "import numpy as np\n",
    "import pandas as pd\n",
    "import matplotlib.pyplot as plt\n",
    "%matplotlib inline\n",
    "from sklearn import preprocessing\n",
    "import tensorflow as tf\n",
    "import tensorflow_datasets as tfds"
   ]
  },
  {
   "cell_type": "code",
   "execution_count": 2,
   "metadata": {},
   "outputs": [],
   "source": [
    "raw_csv_data = np.loadtxt('Audiobooks-data.csv', delimiter=',')\n",
    "unscaled_inputs_all = raw_csv_data[:,1:-1]\n",
    "targets_all = raw_csv_data[:, -1]"
   ]
  },
  {
   "cell_type": "markdown",
   "metadata": {},
   "source": [
    "# Balancing the Data"
   ]
  },
  {
   "cell_type": "code",
   "execution_count": 3,
   "metadata": {},
   "outputs": [],
   "source": [
    "num_one_targets = int(np.sum(targets_all))\n",
    "zero_targets_counter = 0\n",
    "indices_to_remove = []\n",
    "for i in range(targets_all.shape[0]):\n",
    "    if targets_all[i] ==0:\n",
    "        zero_targets_counter += 1\n",
    "        if zero_targets_counter > num_one_targets:\n",
    "            indices_to_remove.append(i)\n",
    "unscaled_inputs_equal_priors = np.delete(unscaled_inputs_all, indices_to_remove, axis=0)\n",
    "targets_equal_priors = np.delete(targets_all, indices_to_remove, axis=0)"
   ]
  },
  {
   "cell_type": "markdown",
   "metadata": {},
   "source": [
    "# Standarized Data"
   ]
  },
  {
   "cell_type": "code",
   "execution_count": 4,
   "metadata": {},
   "outputs": [],
   "source": [
    "scaled_inputs = preprocessing.scale(unscaled_inputs_equal_priors)"
   ]
  },
  {
   "cell_type": "markdown",
   "metadata": {},
   "source": [
    "# Shaffle the data"
   ]
  },
  {
   "cell_type": "code",
   "execution_count": 5,
   "metadata": {},
   "outputs": [],
   "source": [
    "shuffled_indices = np.arange(scaled_inputs.shape[0])\n",
    "np.random.shuffle(shuffled_indices)\n",
    "shuffled_inputs = scaled_inputs[shuffled_indices]\n",
    "shuffled_targets = targets_equal_priors[shuffled_indices]"
   ]
  },
  {
   "cell_type": "markdown",
   "metadata": {},
   "source": [
    "# Split the data set into Train, Validation and Test"
   ]
  },
  {
   "cell_type": "code",
   "execution_count": 6,
   "metadata": {},
   "outputs": [],
   "source": [
    "samples_count = shuffled_inputs.shape[0]\n",
    "train_samples_count = int(0.8* samples_count)\n",
    "validation_samples_count = int(0.1*samples_count)\n",
    "test_samples_count = samples_count - train_samples_count - validation_samples_count\n",
    "\n",
    "train_inputs = shuffled_inputs[:train_samples_count]\n",
    "train_targets = shuffled_targets[:train_samples_count]\n",
    "\n",
    "validation_inputs = shuffled_inputs[train_samples_count:train_samples_count+validation_samples_count]\n",
    "validation_targets = shuffled_targets[train_samples_count:train_samples_count+validation_samples_count]\n",
    "\n",
    "\n",
    "test_inputs = shuffled_inputs[train_samples_count+validation_samples_count:]\n",
    "test_targets = shuffled_targets[train_samples_count+validation_samples_count:]"
   ]
  },
  {
   "cell_type": "code",
   "execution_count": 7,
   "metadata": {},
   "outputs": [
    {
     "name": "stdout",
     "output_type": "stream",
     "text": [
      "1787.0 3579 0.4993014808605756\n",
      "\n",
      "217.0 447 0.4854586129753915\n",
      "\n",
      "233.0 448 0.5200892857142857\n"
     ]
    }
   ],
   "source": [
    "print(np.sum(train_targets), train_samples_count, np.sum(train_targets)/train_samples_count)\n",
    "print()\n",
    "print(np.sum(validation_targets), validation_samples_count, np.sum(validation_targets)/validation_samples_count)\n",
    "print()\n",
    "print(np.sum(test_targets), test_samples_count, np.sum(test_targets)/test_samples_count)"
   ]
  },
  {
   "cell_type": "markdown",
   "metadata": {},
   "source": [
    "# Sve the three data in npz"
   ]
  },
  {
   "cell_type": "code",
   "execution_count": 8,
   "metadata": {},
   "outputs": [],
   "source": [
    "np.savez('Audiobooks_data_train', inputs=train_inputs, targets=train_targets)\n",
    "np.savez('Audiobooks_data_validation', inputs=validation_inputs, targets=validation_targets)\n",
    "np.savez('Audiobooks_data_test', inputs=test_inputs, targets=test_targets)"
   ]
  },
  {
   "cell_type": "markdown",
   "metadata": {},
   "source": [
    "# create the machine learning algorithm"
   ]
  },
  {
   "cell_type": "markdown",
   "metadata": {},
   "source": [
    "## Import libraries"
   ]
  },
  {
   "cell_type": "code",
   "execution_count": 9,
   "metadata": {},
   "outputs": [],
   "source": [
    "import numpy as np\n",
    "import tensorflow as tf"
   ]
  },
  {
   "cell_type": "markdown",
   "metadata": {},
   "source": [
    "# Data"
   ]
  },
  {
   "cell_type": "code",
   "execution_count": 10,
   "metadata": {},
   "outputs": [],
   "source": [
    "npz = np.load('Audiobooks_data_train.npz')\n",
    "\n",
    "train_inputs = npz['inputs'].astype(np.float)\n",
    "train_targets = npz['targets'].astype(np.int)\n",
    "\n",
    "npz = np.load('Audiobooks_data_validation.npz')\n",
    "validation_inputs, validation_targets = npz['inputs'].astype(np.float), npz['targets'].astype(np.int)\n",
    "\n",
    "npz = np.load('Audiobooks_data_test.npz')\n",
    "test_inputs, test_targets = npz['inputs'].astype(np.float), npz['inputs'].astype(np.int)"
   ]
  },
  {
   "cell_type": "markdown",
   "metadata": {},
   "source": [
    "# Model"
   ]
  },
  {
   "cell_type": "code",
   "execution_count": 11,
   "metadata": {},
   "outputs": [
    {
     "name": "stdout",
     "output_type": "stream",
     "text": [
      "Train on 3579 samples, validate on 447 samples\n",
      "Epoch 1/100\n",
      "3579/3579 - 0s - loss: 0.6169 - accuracy: 0.6530 - val_loss: 0.5160 - val_accuracy: 0.7181\n",
      "Epoch 2/100\n",
      "3579/3579 - 0s - loss: 0.4653 - accuracy: 0.7692 - val_loss: 0.4395 - val_accuracy: 0.7763\n",
      "Epoch 3/100\n",
      "3579/3579 - 0s - loss: 0.4126 - accuracy: 0.7913 - val_loss: 0.4057 - val_accuracy: 0.7808\n",
      "Epoch 4/100\n",
      "3579/3579 - 0s - loss: 0.3880 - accuracy: 0.7944 - val_loss: 0.3919 - val_accuracy: 0.7942\n",
      "Epoch 5/100\n",
      "3579/3579 - 0s - loss: 0.3727 - accuracy: 0.8027 - val_loss: 0.3792 - val_accuracy: 0.7875\n",
      "Epoch 6/100\n",
      "3579/3579 - 0s - loss: 0.3627 - accuracy: 0.8106 - val_loss: 0.3794 - val_accuracy: 0.7897\n",
      "Epoch 7/100\n",
      "3579/3579 - 0s - loss: 0.3550 - accuracy: 0.8117 - val_loss: 0.3673 - val_accuracy: 0.7919\n",
      "Epoch 8/100\n",
      "3579/3579 - 0s - loss: 0.3479 - accuracy: 0.8122 - val_loss: 0.3651 - val_accuracy: 0.7964\n",
      "Epoch 9/100\n",
      "3579/3579 - 0s - loss: 0.3435 - accuracy: 0.8164 - val_loss: 0.3655 - val_accuracy: 0.8054\n",
      "Epoch 10/100\n",
      "3579/3579 - 0s - loss: 0.3400 - accuracy: 0.8198 - val_loss: 0.3555 - val_accuracy: 0.8233\n",
      "Epoch 11/100\n",
      "3579/3579 - 0s - loss: 0.3426 - accuracy: 0.8111 - val_loss: 0.3611 - val_accuracy: 0.8076\n",
      "Epoch 12/100\n",
      "3579/3579 - 0s - loss: 0.3339 - accuracy: 0.8170 - val_loss: 0.3585 - val_accuracy: 0.8210\n",
      "Epoch 13/100\n",
      "3579/3579 - 0s - loss: 0.3337 - accuracy: 0.8203 - val_loss: 0.3605 - val_accuracy: 0.7942\n",
      "Epoch 14/100\n",
      "3579/3579 - 0s - loss: 0.3289 - accuracy: 0.8226 - val_loss: 0.3585 - val_accuracy: 0.7964\n",
      "Epoch 15/100\n",
      "3579/3579 - 0s - loss: 0.3296 - accuracy: 0.8212 - val_loss: 0.3496 - val_accuracy: 0.8166\n",
      "Epoch 16/100\n",
      "3579/3579 - 0s - loss: 0.3284 - accuracy: 0.8279 - val_loss: 0.3613 - val_accuracy: 0.7987\n",
      "Epoch 17/100\n",
      "3579/3579 - 0s - loss: 0.3265 - accuracy: 0.8198 - val_loss: 0.3567 - val_accuracy: 0.7919\n",
      "Epoch 18/100\n",
      "3579/3579 - 0s - loss: 0.3251 - accuracy: 0.8293 - val_loss: 0.3503 - val_accuracy: 0.7942\n",
      "Epoch 19/100\n",
      "3579/3579 - 0s - loss: 0.3213 - accuracy: 0.8310 - val_loss: 0.3497 - val_accuracy: 0.8031\n",
      "Epoch 20/100\n",
      "3579/3579 - 0s - loss: 0.3236 - accuracy: 0.8234 - val_loss: 0.3456 - val_accuracy: 0.8210\n",
      "Epoch 21/100\n",
      "3579/3579 - 0s - loss: 0.3194 - accuracy: 0.8270 - val_loss: 0.3473 - val_accuracy: 0.8188\n",
      "Epoch 22/100\n",
      "3579/3579 - 0s - loss: 0.3189 - accuracy: 0.8298 - val_loss: 0.3462 - val_accuracy: 0.8054\n",
      "Epoch 23/100\n",
      "3579/3579 - 0s - loss: 0.3190 - accuracy: 0.8259 - val_loss: 0.3443 - val_accuracy: 0.8188\n",
      "Epoch 24/100\n",
      "3579/3579 - 0s - loss: 0.3179 - accuracy: 0.8279 - val_loss: 0.3552 - val_accuracy: 0.7897\n",
      "Epoch 25/100\n",
      "3579/3579 - 0s - loss: 0.3162 - accuracy: 0.8326 - val_loss: 0.3438 - val_accuracy: 0.8233\n",
      "Epoch 26/100\n",
      "3579/3579 - 0s - loss: 0.3169 - accuracy: 0.8332 - val_loss: 0.3414 - val_accuracy: 0.8277\n",
      "Epoch 27/100\n",
      "3579/3579 - 0s - loss: 0.3188 - accuracy: 0.8234 - val_loss: 0.3467 - val_accuracy: 0.8166\n",
      "Epoch 28/100\n",
      "3579/3579 - 0s - loss: 0.3163 - accuracy: 0.8326 - val_loss: 0.3526 - val_accuracy: 0.8031\n",
      "Epoch 29/100\n",
      "3579/3579 - 0s - loss: 0.3166 - accuracy: 0.8254 - val_loss: 0.3398 - val_accuracy: 0.8300\n",
      "Epoch 30/100\n",
      "3579/3579 - 0s - loss: 0.3161 - accuracy: 0.8324 - val_loss: 0.3450 - val_accuracy: 0.8121\n",
      "Epoch 31/100\n",
      "3579/3579 - 0s - loss: 0.3155 - accuracy: 0.8276 - val_loss: 0.3462 - val_accuracy: 0.8031\n",
      "Epoch 32/100\n",
      "3579/3579 - 0s - loss: 0.3129 - accuracy: 0.8276 - val_loss: 0.3454 - val_accuracy: 0.8210\n",
      "Epoch 33/100\n",
      "3579/3579 - 0s - loss: 0.3117 - accuracy: 0.8332 - val_loss: 0.3450 - val_accuracy: 0.8031\n",
      "Epoch 34/100\n",
      "3579/3579 - 0s - loss: 0.3121 - accuracy: 0.8321 - val_loss: 0.3445 - val_accuracy: 0.8009\n",
      "Epoch 35/100\n",
      "3579/3579 - 0s - loss: 0.3146 - accuracy: 0.8315 - val_loss: 0.3617 - val_accuracy: 0.7830\n",
      "Epoch 36/100\n",
      "3579/3579 - 0s - loss: 0.3125 - accuracy: 0.8273 - val_loss: 0.3434 - val_accuracy: 0.7987\n",
      "Epoch 37/100\n",
      "3579/3579 - 0s - loss: 0.3096 - accuracy: 0.8349 - val_loss: 0.3398 - val_accuracy: 0.8300\n",
      "Epoch 38/100\n",
      "3579/3579 - 0s - loss: 0.3112 - accuracy: 0.8335 - val_loss: 0.3451 - val_accuracy: 0.7942\n",
      "Epoch 39/100\n",
      "3579/3579 - 0s - loss: 0.3108 - accuracy: 0.8326 - val_loss: 0.3381 - val_accuracy: 0.8300\n",
      "Epoch 40/100\n",
      "3579/3579 - 0s - loss: 0.3110 - accuracy: 0.8293 - val_loss: 0.3536 - val_accuracy: 0.7964\n",
      "Epoch 41/100\n",
      "3579/3579 - 0s - loss: 0.3075 - accuracy: 0.8321 - val_loss: 0.3440 - val_accuracy: 0.8233\n",
      "Epoch 42/100\n",
      "3579/3579 - 0s - loss: 0.3118 - accuracy: 0.8318 - val_loss: 0.3502 - val_accuracy: 0.7987\n",
      "Epoch 43/100\n",
      "3579/3579 - 0s - loss: 0.3084 - accuracy: 0.8301 - val_loss: 0.3477 - val_accuracy: 0.7964\n",
      "Epoch 44/100\n",
      "3579/3579 - 0s - loss: 0.3070 - accuracy: 0.8343 - val_loss: 0.3470 - val_accuracy: 0.8121\n",
      "Epoch 45/100\n",
      "3579/3579 - 0s - loss: 0.3077 - accuracy: 0.8363 - val_loss: 0.3437 - val_accuracy: 0.8143\n",
      "Epoch 46/100\n",
      "3579/3579 - 0s - loss: 0.3072 - accuracy: 0.8371 - val_loss: 0.3458 - val_accuracy: 0.8166\n",
      "Epoch 47/100\n",
      "3579/3579 - 0s - loss: 0.3078 - accuracy: 0.8332 - val_loss: 0.3369 - val_accuracy: 0.8188\n",
      "Epoch 48/100\n",
      "3579/3579 - 0s - loss: 0.3074 - accuracy: 0.8301 - val_loss: 0.3417 - val_accuracy: 0.8210\n",
      "Epoch 49/100\n",
      "3579/3579 - 0s - loss: 0.3083 - accuracy: 0.8340 - val_loss: 0.3385 - val_accuracy: 0.8166\n",
      "Epoch 50/100\n",
      "3579/3579 - 0s - loss: 0.3069 - accuracy: 0.8357 - val_loss: 0.3422 - val_accuracy: 0.8166\n",
      "Epoch 51/100\n",
      "3579/3579 - 0s - loss: 0.3034 - accuracy: 0.8329 - val_loss: 0.3435 - val_accuracy: 0.8143\n",
      "Epoch 52/100\n",
      "3579/3579 - 0s - loss: 0.3108 - accuracy: 0.8310 - val_loss: 0.3381 - val_accuracy: 0.8233\n",
      "Epoch 53/100\n",
      "3579/3579 - 0s - loss: 0.3089 - accuracy: 0.8293 - val_loss: 0.3585 - val_accuracy: 0.7919\n",
      "Epoch 54/100\n",
      "3579/3579 - 0s - loss: 0.3100 - accuracy: 0.8332 - val_loss: 0.3444 - val_accuracy: 0.7919\n",
      "Epoch 55/100\n",
      "3579/3579 - 0s - loss: 0.3066 - accuracy: 0.8340 - val_loss: 0.3451 - val_accuracy: 0.8054\n",
      "Epoch 56/100\n",
      "3579/3579 - 0s - loss: 0.3078 - accuracy: 0.8324 - val_loss: 0.3389 - val_accuracy: 0.8188\n",
      "Epoch 57/100\n",
      "3579/3579 - 0s - loss: 0.3069 - accuracy: 0.8312 - val_loss: 0.3663 - val_accuracy: 0.7763\n",
      "Epoch 58/100\n",
      "3579/3579 - 0s - loss: 0.3039 - accuracy: 0.8385 - val_loss: 0.3454 - val_accuracy: 0.8210\n",
      "Epoch 59/100\n",
      "3579/3579 - 0s - loss: 0.3053 - accuracy: 0.8365 - val_loss: 0.3435 - val_accuracy: 0.8009\n",
      "Epoch 60/100\n",
      "3579/3579 - 0s - loss: 0.3066 - accuracy: 0.8307 - val_loss: 0.3389 - val_accuracy: 0.8210\n",
      "Epoch 61/100\n",
      "3579/3579 - 0s - loss: 0.3044 - accuracy: 0.8382 - val_loss: 0.3495 - val_accuracy: 0.7964\n",
      "Epoch 62/100\n",
      "3579/3579 - 0s - loss: 0.3075 - accuracy: 0.8379 - val_loss: 0.3545 - val_accuracy: 0.7852\n",
      "Epoch 63/100\n",
      "3579/3579 - 0s - loss: 0.3079 - accuracy: 0.8340 - val_loss: 0.3535 - val_accuracy: 0.7942\n",
      "Epoch 64/100\n",
      "3579/3579 - 0s - loss: 0.3036 - accuracy: 0.8385 - val_loss: 0.3577 - val_accuracy: 0.7964\n",
      "Epoch 65/100\n",
      "3579/3579 - 0s - loss: 0.3050 - accuracy: 0.8363 - val_loss: 0.3517 - val_accuracy: 0.7785\n",
      "Epoch 66/100\n",
      "3579/3579 - 0s - loss: 0.3025 - accuracy: 0.8346 - val_loss: 0.3451 - val_accuracy: 0.8166\n",
      "Epoch 67/100\n",
      "3579/3579 - 0s - loss: 0.3036 - accuracy: 0.8363 - val_loss: 0.3424 - val_accuracy: 0.8121\n",
      "Epoch 68/100\n",
      "3579/3579 - 0s - loss: 0.3024 - accuracy: 0.8326 - val_loss: 0.3398 - val_accuracy: 0.8166\n",
      "Epoch 69/100\n",
      "3579/3579 - 0s - loss: 0.3017 - accuracy: 0.8407 - val_loss: 0.3440 - val_accuracy: 0.8166\n",
      "Epoch 70/100\n",
      "3579/3579 - 0s - loss: 0.3027 - accuracy: 0.8315 - val_loss: 0.3513 - val_accuracy: 0.7919\n",
      "Epoch 71/100\n",
      "3579/3579 - 0s - loss: 0.3038 - accuracy: 0.8368 - val_loss: 0.3430 - val_accuracy: 0.8076\n",
      "Epoch 72/100\n",
      "3579/3579 - 0s - loss: 0.3016 - accuracy: 0.8349 - val_loss: 0.3452 - val_accuracy: 0.8188\n",
      "Epoch 73/100\n",
      "3579/3579 - 0s - loss: 0.3059 - accuracy: 0.8365 - val_loss: 0.3577 - val_accuracy: 0.7763\n",
      "Epoch 74/100\n",
      "3579/3579 - 0s - loss: 0.2998 - accuracy: 0.8385 - val_loss: 0.3591 - val_accuracy: 0.7875\n",
      "Epoch 75/100\n",
      "3579/3579 - 0s - loss: 0.3024 - accuracy: 0.8399 - val_loss: 0.3521 - val_accuracy: 0.7987\n",
      "Epoch 76/100\n",
      "3579/3579 - 0s - loss: 0.3025 - accuracy: 0.8332 - val_loss: 0.3402 - val_accuracy: 0.8233\n",
      "Epoch 77/100\n",
      "3579/3579 - 0s - loss: 0.3034 - accuracy: 0.8321 - val_loss: 0.3399 - val_accuracy: 0.8210\n",
      "Epoch 78/100\n",
      "3579/3579 - 0s - loss: 0.3018 - accuracy: 0.8360 - val_loss: 0.3564 - val_accuracy: 0.7987\n",
      "Epoch 79/100\n",
      "3579/3579 - 0s - loss: 0.3041 - accuracy: 0.8343 - val_loss: 0.3590 - val_accuracy: 0.7808\n"
     ]
    },
    {
     "name": "stdout",
     "output_type": "stream",
     "text": [
      "Epoch 80/100\n",
      "3579/3579 - 0s - loss: 0.3011 - accuracy: 0.8365 - val_loss: 0.3438 - val_accuracy: 0.8188\n",
      "Epoch 81/100\n",
      "3579/3579 - 0s - loss: 0.3021 - accuracy: 0.8393 - val_loss: 0.3498 - val_accuracy: 0.7919\n",
      "Epoch 82/100\n",
      "3579/3579 - 0s - loss: 0.3011 - accuracy: 0.8385 - val_loss: 0.3396 - val_accuracy: 0.8188\n",
      "Epoch 83/100\n",
      "3579/3579 - 0s - loss: 0.3010 - accuracy: 0.8391 - val_loss: 0.3389 - val_accuracy: 0.8233\n",
      "Epoch 84/100\n",
      "3579/3579 - 0s - loss: 0.3028 - accuracy: 0.8349 - val_loss: 0.3451 - val_accuracy: 0.7897\n",
      "Epoch 85/100\n",
      "3579/3579 - 0s - loss: 0.3024 - accuracy: 0.8365 - val_loss: 0.3494 - val_accuracy: 0.8098\n",
      "Epoch 86/100\n",
      "3579/3579 - 0s - loss: 0.3029 - accuracy: 0.8363 - val_loss: 0.3526 - val_accuracy: 0.8054\n",
      "Epoch 87/100\n",
      "3579/3579 - 0s - loss: 0.3068 - accuracy: 0.8363 - val_loss: 0.3462 - val_accuracy: 0.8009\n",
      "Epoch 88/100\n",
      "3579/3579 - 0s - loss: 0.3036 - accuracy: 0.8301 - val_loss: 0.3485 - val_accuracy: 0.7919\n",
      "Epoch 89/100\n",
      "3579/3579 - 0s - loss: 0.2963 - accuracy: 0.8421 - val_loss: 0.3507 - val_accuracy: 0.7942\n",
      "Epoch 90/100\n",
      "3579/3579 - 0s - loss: 0.3012 - accuracy: 0.8379 - val_loss: 0.3425 - val_accuracy: 0.8098\n",
      "Epoch 91/100\n",
      "3579/3579 - 0s - loss: 0.3034 - accuracy: 0.8365 - val_loss: 0.3506 - val_accuracy: 0.7964\n",
      "Epoch 92/100\n",
      "3579/3579 - 0s - loss: 0.3023 - accuracy: 0.8368 - val_loss: 0.3398 - val_accuracy: 0.8143\n",
      "Epoch 93/100\n",
      "3579/3579 - 0s - loss: 0.3001 - accuracy: 0.8335 - val_loss: 0.3527 - val_accuracy: 0.7919\n",
      "Epoch 94/100\n",
      "3579/3579 - 0s - loss: 0.3031 - accuracy: 0.8293 - val_loss: 0.3576 - val_accuracy: 0.7897\n",
      "Epoch 95/100\n",
      "3579/3579 - 0s - loss: 0.2982 - accuracy: 0.8360 - val_loss: 0.3593 - val_accuracy: 0.7718\n",
      "Epoch 96/100\n",
      "3579/3579 - 0s - loss: 0.2997 - accuracy: 0.8354 - val_loss: 0.3501 - val_accuracy: 0.7919\n",
      "Epoch 97/100\n",
      "3579/3579 - 0s - loss: 0.2989 - accuracy: 0.8407 - val_loss: 0.3631 - val_accuracy: 0.7808\n",
      "Epoch 98/100\n",
      "3579/3579 - 0s - loss: 0.3005 - accuracy: 0.8374 - val_loss: 0.3445 - val_accuracy: 0.8121\n",
      "Epoch 99/100\n",
      "3579/3579 - 0s - loss: 0.3009 - accuracy: 0.8379 - val_loss: 0.3513 - val_accuracy: 0.8143\n",
      "Epoch 100/100\n",
      "3579/3579 - 0s - loss: 0.3048 - accuracy: 0.8315 - val_loss: 0.3463 - val_accuracy: 0.8121\n"
     ]
    },
    {
     "data": {
      "text/plain": [
       "<tensorflow.python.keras.callbacks.History at 0x14b946c10>"
      ]
     },
     "execution_count": 11,
     "metadata": {},
     "output_type": "execute_result"
    }
   ],
   "source": [
    "input_size = 10\n",
    "output_size = 2\n",
    "# Use same hidden layer size for both hidden layers. Not a necessity.\n",
    "hidden_layer_size = 50\n",
    "    \n",
    "# define how the model will look like\n",
    "model = tf.keras.Sequential([\n",
    "    \n",
    "    # the first layer (the input layer)\n",
    "    # each observation is 28x28x1 pixels, therefore it is a tensor of rank 3\n",
    "    # since we don't know CNNs yet, we don't know how to feed such input into our net, so we must flatten the images\n",
    "    # there is a convenient method 'Flatten' that simply takes our 28x28x1 tensor and orders it into a (None,) \n",
    "    # or (28x28x1,) = (784,) vector\n",
    "    # this allows us to actually create a feed forward neural network\n",
    "    \n",
    "    # tf.keras.layers.Dense is basically implementing: output = activation(dot(input, weight) + bias)\n",
    "    # it takes several arguments, but the most important ones for us are the hidden_layer_size and the activation function\n",
    "    tf.keras.layers.Dense(hidden_layer_size, activation='relu'), # 1st hidden layer\n",
    "    tf.keras.layers.Dense(hidden_layer_size, activation='relu'), # 2nd hidden layer\n",
    "    \n",
    "    # the final layer is no different, we just make sure to activate it with softmax\n",
    "    tf.keras.layers.Dense(output_size, activation='softmax') # output layer\n",
    "])\n",
    "model.compile(optimizer='adam', loss='sparse_categorical_crossentropy', metrics=['accuracy'])\n",
    "batch_size = 100\n",
    "max_epochs = 100\n",
    "model.fit(train_inputs,\n",
    "         train_targets,\n",
    "         batch_size=batch_size,\n",
    "         epochs=max_epochs,\n",
    "         validation_data=(validation_inputs, validation_targets),\n",
    "         verbose=2)"
   ]
  },
  {
   "cell_type": "code",
   "execution_count": null,
   "metadata": {},
   "outputs": [],
   "source": []
  },
  {
   "cell_type": "code",
   "execution_count": null,
   "metadata": {},
   "outputs": [],
   "source": []
  },
  {
   "cell_type": "code",
   "execution_count": null,
   "metadata": {},
   "outputs": [],
   "source": []
  },
  {
   "cell_type": "code",
   "execution_count": null,
   "metadata": {},
   "outputs": [],
   "source": []
  }
 ],
 "metadata": {
  "kernelspec": {
   "display_name": "Python 3",
   "language": "python",
   "name": "python3"
  },
  "language_info": {
   "codemirror_mode": {
    "name": "ipython",
    "version": 3
   },
   "file_extension": ".py",
   "mimetype": "text/x-python",
   "name": "python",
   "nbconvert_exporter": "python",
   "pygments_lexer": "ipython3",
   "version": "3.7.4"
  }
 },
 "nbformat": 4,
 "nbformat_minor": 2
}
